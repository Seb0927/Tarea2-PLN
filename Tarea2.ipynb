{
 "cells": [
  {
   "cell_type": "markdown",
   "id": "24451d87-f419-4d66-8d40-7f83c4a0a410",
   "metadata": {},
   "source": [
    "# Tarea #2: Representación vectorial de palabras con Word2Vec y FastText usando Gensim"
   ]
  },
  {
   "cell_type": "markdown",
   "id": "32c11746-c0f2-463c-b39c-55d7a266b59c",
   "metadata": {},
   "source": [
    "Realziado por:\n",
    "- Jose Luis Hincapie Bucheli (2125340)\n",
    "- Sebastián Idrobo Avirama (2122637)\n",
    "- Paul Rodrigo Rojas Guerrero (2127891)\n",
    "---"
   ]
  },
  {
   "cell_type": "markdown",
   "id": "00583603-af43-499b-bc99-9d09a190d8f4",
   "metadata": {},
   "source": [
    "# Creación de listas de sentencias"
   ]
  },
  {
   "cell_type": "code",
   "execution_count": null,
   "id": "bad7576e-f35a-4395-a186-26fa8fc08c9b",
   "metadata": {},
   "outputs": [],
   "source": [
    "!pip install datasets spacy"
   ]
  },
  {
   "cell_type": "code",
   "execution_count": null,
   "id": "3e306112-268c-4930-a2ea-a2a356d89f8c",
   "metadata": {},
   "outputs": [],
   "source": [
    "from datasets import load_dataset"
   ]
  },
  {
   "cell_type": "code",
   "execution_count": null,
   "id": "579a85c0-9a5f-471f-9b28-c366cbc9e1cd",
   "metadata": {},
   "outputs": [],
   "source": [
    "raw_text = load_dataset('large_spanish_corpus', name='DGT', split='train', streaming=True)"
   ]
  },
  {
   "cell_type": "markdown",
   "id": "d651b342-2418-46c9-8827-c0ce978a5328",
   "metadata": {},
   "source": [
    "## Tokenización"
   ]
  },
  {
   "cell_type": "code",
   "execution_count": null,
   "id": "bca8ab9c-e592-4d58-b1c3-2463765dcd1c",
   "metadata": {},
   "outputs": [],
   "source": [
    "import spacy\n",
    "from tqdm import tqdm\n",
    "import time\n",
    "\n",
    "!python -m spacy download es_core_news_sm"
   ]
  },
  {
   "cell_type": "code",
   "execution_count": null,
   "id": "eb98bab8-4dda-4687-8d46-93b91ee09d56",
   "metadata": {},
   "outputs": [],
   "source": [
    "#Correr antes de hacer la limpieza\n",
    "nlp = spacy.load('es_core_news_sm')"
   ]
  },
  {
   "cell_type": "markdown",
   "id": "8fcd2735-9691-4957-af3e-73afd12c9f15",
   "metadata": {},
   "source": [
    "## Depuración"
   ]
  },
  {
   "cell_type": "code",
   "execution_count": null,
   "id": "9589b27c-02e3-455b-a325-053f8ac1263a",
   "metadata": {},
   "outputs": [],
   "source": [
    "# Si ya tienes el archivo output2 actualizado, puedes omitir este paso\n",
    "\n",
    "import re, string\n",
    "\n",
    "with open('output2.txt', 'w',encoding=\"utf-8\") as output_file:\n",
    "    for sent in tqdm(raw_text):     \n",
    "        sent = sent['text']\n",
    "        doc = nlp(sent)\n",
    "        for token in doc:\n",
    "            # Verificar que sea una palabra, no sea un dígito y no sea una stop-word\n",
    "            w = token.text\n",
    "            if not w.isdigit() and not token.is_stop:\n",
    "                w = re.sub(r'[0-9]','', w) # Depurar de dígitos\n",
    "                re_punc = re.compile('[%s]' % re.escape(string.punctuation)) \n",
    "                w = re_punc.sub('', w) # Depurar de signos de puntuación\n",
    "                w = re.sub(\"\\!|\\'|\\?|\\¿|\\¡|\\«|\\»|\\—\",\"\",w) # Depurar de símbolos especiales\n",
    "                w = w.lower() # Utilizar sólo letras minúsculas\n",
    "                if w.strip(): # Si el token se convirtió en una cadena vacía o con espacios, no añadirla\n",
    "                    output_file.write(f'{w}, ')\n",
    "        output_file.write('\\n')"
   ]
  },
  {
   "cell_type": "code",
   "execution_count": null,
   "id": "0a7795a3-f583-45d0-b09f-2e027b1170d0",
   "metadata": {},
   "outputs": [],
   "source": [
    "with open('output2.txt', 'r', encoding=\"utf-8\") as file:\n",
    "    lines = file.readlines()\n",
    "    sentences = []\n",
    "    for line in lines:\n",
    "        words = line.split(', ')\n",
    "        last_index = len(words)-1\n",
    "        if words[last_index] == '\\n':\n",
    "            words.pop(last_index)\n",
    "        sentences.append(words)\n",
    "\n",
    "print(sentences[1:50])"
   ]
  },
  {
   "cell_type": "markdown",
   "id": "36ba46d5-230e-4776-865e-31262f9ebff4",
   "metadata": {},
   "source": [
    "# Representación Vectorial"
   ]
  },
  {
   "cell_type": "markdown",
   "id": "b36aa2a7-8576-4b1e-93b1-528f09193d12",
   "metadata": {},
   "source": [
    "## Construcción de modelos de FastText y Word2Vec"
   ]
  },
  {
   "cell_type": "code",
   "execution_count": null,
   "id": "83b51725-a665-47aa-b876-2415a923f95c",
   "metadata": {},
   "outputs": [],
   "source": [
    "!pip install gensim"
   ]
  },
  {
   "cell_type": "code",
   "execution_count": null,
   "id": "7a48cc46-1c76-4127-a4da-c8d18e27bb03",
   "metadata": {},
   "outputs": [],
   "source": [
    "from gensim.models import FastText\n",
    "from gensim.test.utils import common_texts\n",
    "from gensim.models.word2vec import Word2Vec"
   ]
  },
  {
   "cell_type": "code",
   "execution_count": null,
   "id": "eaf88231-44ea-4185-9f1e-e675bf6d4bf9",
   "metadata": {},
   "outputs": [],
   "source": [
    "# Reorganizando algunas oraciones para incluir las palabras madrid y bogotá en un mismo grupo de 300\n",
    "\n",
    "# Tomar las últimas oraciones en una variable independiente\n",
    "sentences_300 = sentences[:292].copy()\n",
    "madrid_lines = [10330, 10331, 10332, 10333] # Líneas que contienen madrid\n",
    "bogota_lines = [844192, 1493819, 2841959, 3070992] # Líneas que contienen bogotá\n",
    "\n",
    "for l in madrid_lines:\n",
    "    sent = sentences[l-1]\n",
    "    print(sent)\n",
    "    sentences_300.insert(0, sent)\n",
    "\n",
    "words_to_append_bogota = []\n",
    "for l in bogota_lines:\n",
    "    sent = sentences[l-1]\n",
    "    print(sent)\n",
    "    sentences_300.insert(0, sent)\n",
    "\n",
    "len(sentences_300)"
   ]
  },
  {
   "cell_type": "markdown",
   "id": "fc8eb67c-65d8-469c-9c60-61a2146f3f5c",
   "metadata": {},
   "source": [
    "### Word2Vec"
   ]
  },
  {
   "cell_type": "code",
   "execution_count": null,
   "id": "523c52b0-f7ff-4f19-abe6-3672b3258c6b",
   "metadata": {},
   "outputs": [],
   "source": [
    "word2vec_300 = Word2Vec(sentences=sentences_300, vector_size=300, window=5, min_count=1, workers=4) # 300 sentences"
   ]
  },
  {
   "cell_type": "code",
   "execution_count": null,
   "id": "3bba0616-a6fa-44be-8478-af0725271227",
   "metadata": {},
   "outputs": [],
   "source": [
    "word2vec_1m = Word2Vec(sentences=sentences[:1_000_000], vector_size=300, window=5, min_count=1, workers=4) #1000000 sentences"
   ]
  },
  {
   "cell_type": "code",
   "execution_count": null,
   "id": "75edeaa8-b8b5-4c26-b67b-c4100944d20c",
   "metadata": {},
   "outputs": [],
   "source": [
    "word2vec_full = Word2Vec(sentences=sentences, vector_size=300, window=5, min_count=1, workers=4) # aprox 3000000 sentences"
   ]
  },
  {
   "cell_type": "markdown",
   "id": "d9df78a9-5c80-4f07-9b98-782cfa9f6aa9",
   "metadata": {},
   "source": [
    "### FastText"
   ]
  },
  {
   "cell_type": "code",
   "execution_count": null,
   "id": "ca1266ff-b185-496c-a0cc-5f9c1f457f05",
   "metadata": {},
   "outputs": [],
   "source": [
    "fasttext_300 = FastText(vector_size=300, window=5, min_count=1, workers=4)\n",
    "fasttext_300.build_vocab(corpus_iterable=sentences_300) # 300 sentences"
   ]
  },
  {
   "cell_type": "code",
   "execution_count": null,
   "id": "388bc81e-824a-4169-9e9c-712b935a1d40",
   "metadata": {},
   "outputs": [],
   "source": [
    "fasttext_1m = FastText(vector_size=300, window=5, min_count=1, workers=4)\n",
    "fasttext_1m.build_vocab(corpus_iterable=sentences[:1_000_000]) #1000000 sentences"
   ]
  },
  {
   "cell_type": "code",
   "execution_count": null,
   "id": "74a9cb24-8827-4675-a6ab-e283cf011247",
   "metadata": {},
   "outputs": [],
   "source": [
    "fasttext_full = FastText(vector_size=300, window=5, min_count=1, workers=4)\n",
    "fasttext_full.build_vocab(corpus_iterable=sentences) # aprox 3000000 sentences"
   ]
  },
  {
   "cell_type": "markdown",
   "id": "8eb51afa-5ff6-4e61-98b7-c0f6f82edf56",
   "metadata": {},
   "source": [
    "### Ejemplos"
   ]
  },
  {
   "cell_type": "markdown",
   "id": "e6ed940b-4b97-462b-b2af-896c89d61794",
   "metadata": {},
   "source": [
    "Resumido: https://docs.google.com/spreadsheets/d/1vhS3BcYz8Ocxebu1RmwyGj8Ac9xiK_ctfhrQVVkHFAI/edit?usp=sharing"
   ]
  },
  {
   "cell_type": "code",
   "execution_count": null,
   "id": "dc0f1257-e958-405d-bdd2-817e5fc91ce7",
   "metadata": {},
   "outputs": [],
   "source": [
    "target_words = ['importación', 'europea', 'permita', 'madrid', 'bogotá']\n",
    "\n",
    "for w in target_words:\n",
    "    print(\"*******************************\")\n",
    "    print(f\"Para {w}\")\n",
    "    print()\n",
    "    print(\"Usando 300 oraciones:\")\n",
    "    print()\n",
    "    for w1, p in word2vec_300.wv.most_similar(w):\n",
    "        print(f\"{w1}: {p}\")\n",
    "    print(\"\\n\")\n",
    "        \n",
    "    print(\"Usando 1000000 oraciones:\")\n",
    "    print()\n",
    "    for w1, p in word2vec_1m.wv.most_similar(w):\n",
    "        print(f\"{w1}: {p}\")\n",
    "    print(\"\\n\")\n",
    "\n",
    "    print(\"Usando 3168368 oraciones:\")\n",
    "    print()\n",
    "    for w1, p in word2vec_full.wv.most_similar(w):\n",
    "        print(f\"{w1}: {p}\")\n",
    "    print(\"\\n\")\n",
    "    \n",
    "\n"
   ]
  },
  {
   "cell_type": "code",
   "execution_count": null,
   "id": "98963e93-e52f-4ca2-b711-cfb6a89c8fb3",
   "metadata": {},
   "outputs": [],
   "source": [
    "# FastText\n",
    "\n",
    "target_words = ['importación', 'europea', 'permita', 'madrid', 'bogotá']\n",
    "\n",
    "for w in target_words:\n",
    "    print(\"*******************************\")\n",
    "    print(f\"Para {w}\")\n",
    "    print()\n",
    "    print(\"Usando 300 oraciones:\")\n",
    "    print()\n",
    "    for w1, p in fasttext_300.wv.most_similar(w):\n",
    "        print(f\"{w1}: {p}\")\n",
    "    print(\"\\n\")\n",
    "        \n",
    "    print(\"Usando 1000000 oraciones:\")\n",
    "    print()\n",
    "    for w1, p in fasttext_1m.wv.most_similar(w):\n",
    "        print(f\"{w1}: {p}\")\n",
    "    print(\"\\n\")\n",
    "\n",
    "    print(\"Usando 3168368 oraciones:\")\n",
    "    print()\n",
    "    for w1, p in fasttext_full.wv.most_similar(w):\n",
    "        print(f\"{w1}: {p}\")\n",
    "    print(\"\\n\")\n",
    "    \n",
    "\n"
   ]
  },
  {
   "cell_type": "markdown",
   "id": "11ff16b8-9660-4fd6-b298-093acbca5542",
   "metadata": {},
   "source": [
    "## Construcción de vectores para palabras únicas"
   ]
  },
  {
   "cell_type": "code",
   "execution_count": null,
   "id": "e23d3720-4da8-47e6-982c-09e1c98e3e0a",
   "metadata": {},
   "outputs": [],
   "source": [
    "# Inserte código aquí"
   ]
  },
  {
   "cell_type": "markdown",
   "id": "2c7f7a2f-1084-4ebe-b110-3a8a1ad3ccef",
   "metadata": {},
   "source": [
    "## Visualización de vectores en plano cartesiano"
   ]
  },
  {
   "cell_type": "code",
   "execution_count": null,
   "id": "aa9926d5-7352-48d2-84d5-0b4354481d51",
   "metadata": {},
   "outputs": [],
   "source": [
    "from sklearn.manifold import TSNE\n",
    "import matplotlib.pyplot as plt\n",
    "import numpy as np"
   ]
  },
  {
   "cell_type": "code",
   "execution_count": null,
   "id": "00d6a8ba-eca2-445a-9448-4339425fe8e4",
   "metadata": {},
   "outputs": [],
   "source": [
    "# Funciones para entrenar modelos\n",
    "def entrenar_modelo_w2v(dim, numSentences):\n",
    "    modelo = Word2Vec(sentences=sentences[:numSentences], vector_size=300, window=5, min_count=1, workers=4)\n",
    "    return modelo\n",
    "\n",
    "def entrenar_modelo_ft(dim, numSentences):\n",
    "    modelo = FastText(vector_size=300, window=5, min_count=1, workers=4)\n",
    "    modelo.build_vocab(corpus_iterable=sentences[:numSentences])\n",
    "    return modelo\n"
   ]
  },
  {
   "cell_type": "code",
   "execution_count": null,
   "id": "9daeaeed-6c8a-40ca-8d44-ccf44b649666",
   "metadata": {},
   "outputs": [],
   "source": [
    "# Visualización en plano cartesinano\n",
    "def visualizar_tsne(modelo, dim, perplexity=30):\n",
    "    # Obtener vectores de palabras y palabras\n",
    "    vectores = modelo.wv.vectors\n",
    "    palabras = modelo.wv.index_to_key\n",
    "\n",
    "    # Aplicar t-SNE para reducción de dimensionalidad a 2D\n",
    "    tsne = TSNE(n_components=2, random_state=42, perplexity=perplexity)\n",
    "    vectores_2d = tsne.fit_transform(vectores)\n",
    "\n",
    "    # Visualizar todas las palabras en el plano cartesiano\n",
    "    plt.figure(figsize=(10, 10))\n",
    "    for palabra, (x, y) in zip(palabras, vectores_2d):\n",
    "        plt.scatter(x, y)\n",
    "        plt.text(x, y, palabra, fontsize=8)\n",
    "    plt.title(f'Visualización t-SNE - Dimensión {dim} - Sentencias: {numSentences}')\n",
    "    plt.show()"
   ]
  },
  {
   "cell_type": "markdown",
   "id": "675918d4-24e5-4a57-854e-07ed58ffc282",
   "metadata": {},
   "source": [
    "### Word2vec"
   ]
  },
  {
   "cell_type": "code",
   "execution_count": null,
   "id": "0d1398b9-8034-45cd-ac1c-df076d228645",
   "metadata": {},
   "outputs": [],
   "source": [
    "numSentences = 20\n",
    "modelo_dim_20 = entrenar_modelo_w2v(100, numSentences)\n",
    "visualizar_tsne(modelo_dim_20, 100, perplexity=5)"
   ]
  },
  {
   "cell_type": "code",
   "execution_count": null,
   "id": "bd103aef-3299-436a-9d49-8b3f71161558",
   "metadata": {},
   "outputs": [],
   "source": [
    "numSentences = 100\n",
    "modelo_dim_300 = entrenar_modelo_w2v(300, numSentences)\n",
    "visualizar_tsne(modelo_dim_300, 300, perplexity=5)"
   ]
  },
  {
   "cell_type": "markdown",
   "id": "1ab70450-f859-4e26-84f9-7538f24bf128",
   "metadata": {},
   "source": [
    "### fastText"
   ]
  },
  {
   "cell_type": "code",
   "execution_count": null,
   "id": "ad17f875-50e3-4d3d-ad1e-3c5ba029c3a5",
   "metadata": {},
   "outputs": [],
   "source": [
    "numSentences = 150\n",
    "modelo_dim_20 = entrenar_modelo_ft(100, numSentences)\n",
    "visualizar_tsne(modelo_dim_20, 100, perplexity=5)"
   ]
  },
  {
   "cell_type": "code",
   "execution_count": null,
   "id": "a2370a40-3ffb-4025-9211-07b2ef8b8afb",
   "metadata": {},
   "outputs": [],
   "source": [
    "numSentences = 50\n",
    "modelo_dim_300 = entrenar_modelo_ft(300, numSentences)\n",
    "visualizar_tsne(modelo_dim_300, 300, perplexity=5)"
   ]
  }
 ],
 "metadata": {
  "kernelspec": {
   "display_name": "Python 3 (ipykernel)",
   "language": "python",
   "name": "python3"
  },
  "language_info": {
   "codemirror_mode": {
    "name": "ipython",
    "version": 3
   },
   "file_extension": ".py",
   "mimetype": "text/x-python",
   "name": "python",
   "nbconvert_exporter": "python",
   "pygments_lexer": "ipython3",
   "version": "3.10.12"
  }
 },
 "nbformat": 4,
 "nbformat_minor": 5
}
