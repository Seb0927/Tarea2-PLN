{
 "cells": [
  {
   "cell_type": "markdown",
   "id": "24451d87-f419-4d66-8d40-7f83c4a0a410",
   "metadata": {},
   "source": [
    "# Tarea #2: Representación vectorial de palabras con Word2Vec y FastText usando Gensim"
   ]
  },
  {
   "cell_type": "markdown",
   "id": "32c11746-c0f2-463c-b39c-55d7a266b59c",
   "metadata": {},
   "source": [
    "Realziado por:\n",
    "- Jose Luis Hincapie Bucheli (2125340)\n",
    "- Sebastián Idrobo Avirama (2122637)\n",
    "- Paul Rodrigo Rojas Guerrero (2127891)\n",
    "---"
   ]
  },
  {
   "cell_type": "markdown",
   "id": "00583603-af43-499b-bc99-9d09a190d8f4",
   "metadata": {},
   "source": [
    "# Creación de listas de sentencias"
   ]
  },
  {
   "cell_type": "code",
   "execution_count": null,
   "id": "bad7576e-f35a-4395-a186-26fa8fc08c9b",
   "metadata": {},
   "outputs": [],
   "source": [
    "!pip install datasets spacy"
   ]
  },
  {
   "cell_type": "code",
   "execution_count": null,
   "id": "3e306112-268c-4930-a2ea-a2a356d89f8c",
   "metadata": {},
   "outputs": [],
   "source": [
    "from datasets import load_dataset"
   ]
  },
  {
   "cell_type": "code",
   "execution_count": null,
   "id": "579a85c0-9a5f-471f-9b28-c366cbc9e1cd",
   "metadata": {},
   "outputs": [],
   "source": [
    "raw_text = load_dataset('large_spanish_corpus', name='DGT', split='train', streaming=True)"
   ]
  },
  {
   "cell_type": "markdown",
   "id": "d651b342-2418-46c9-8827-c0ce978a5328",
   "metadata": {},
   "source": [
    "## Tokenización"
   ]
  },
  {
   "cell_type": "code",
   "execution_count": null,
   "id": "bca8ab9c-e592-4d58-b1c3-2463765dcd1c",
   "metadata": {},
   "outputs": [],
   "source": [
    "import spacy\n",
    "from tqdm import tqdm\n",
    "import time\n",
    "\n",
    "!python -m spacy download es_core_news_sm"
   ]
  },
  {
   "cell_type": "code",
   "execution_count": null,
   "id": "eb98bab8-4dda-4687-8d46-93b91ee09d56",
   "metadata": {},
   "outputs": [],
   "source": [
    "#Correr antes de hacer la limpieza\n",
    "nlp = spacy.load('es_core_news_sm')"
   ]
  },
  {
   "cell_type": "markdown",
   "id": "8fcd2735-9691-4957-af3e-73afd12c9f15",
   "metadata": {},
   "source": [
    "## Depuración"
   ]
  },
  {
   "cell_type": "code",
   "execution_count": null,
   "id": "9589b27c-02e3-455b-a325-053f8ac1263a",
   "metadata": {},
   "outputs": [],
   "source": [
    "# Si ya tienes el archivo output2 actualizado, puedes omitir este paso\n",
    "\n",
    "import re, string\n",
    "\n",
    "with open('output2.txt', 'w',encoding=\"utf-8\") as output_file:\n",
    "    for sent in tqdm(raw_text):     \n",
    "        sent = sent['text']\n",
    "        doc = nlp(sent)\n",
    "        for token in doc:\n",
    "            # Verificar que sea una palabra, no sea un dígito y no sea una stop-word\n",
    "            w = token.text\n",
    "            if not w.isdigit() and not token.is_stop:\n",
    "                w = re.sub(r'[0-9]','', w) # Depurar de dígitos\n",
    "                re_punc = re.compile('[%s]' % re.escape(string.punctuation)) \n",
    "                w = re_punc.sub('', w) # Depurar de signos de puntuación\n",
    "                w = re.sub(\"\\!|\\'|\\?|\\¿|\\¡|\\«|\\»|\\—\",\"\",w) # Depurar de símbolos especiales\n",
    "                w = w.lower() # Utilizar sólo letras minúsculas\n",
    "                if w.strip(): # Si el token se convirtió en una cadena vacía o con espacios, no añadirla\n",
    "                    output_file.write(f'{w}, ')\n",
    "        output_file.write('\\n')"
   ]
  },
  {
   "cell_type": "code",
   "execution_count": null,
   "id": "0a7795a3-f583-45d0-b09f-2e027b1170d0",
   "metadata": {},
   "outputs": [],
   "source": [
    "with open('output2.txt', 'r', encoding=\"utf-8\") as file:\n",
    "    lines = file.readlines()\n",
    "    sentences = []\n",
    "    for line in lines:\n",
    "        words = line.split(', ')\n",
    "        last_index = len(words)-1\n",
    "        if words[last_index] == '\\n':\n",
    "            words.pop(last_index)\n",
    "        sentences.append(words)\n",
    "\n",
    "print(sentences[1:50])"
   ]
  },
  {
   "cell_type": "markdown",
   "id": "36ba46d5-230e-4776-865e-31262f9ebff4",
   "metadata": {},
   "source": [
    "# Representación Vectorial"
   ]
  },
  {
   "cell_type": "markdown",
   "id": "b36aa2a7-8576-4b1e-93b1-528f09193d12",
   "metadata": {},
   "source": [
    "## Construcción de modelos de FastText y Word2Vec"
   ]
  },
  {
   "cell_type": "code",
   "execution_count": null,
   "id": "83b51725-a665-47aa-b876-2415a923f95c",
   "metadata": {},
   "outputs": [],
   "source": [
    "!pip install gensim"
   ]
  },
  {
   "cell_type": "code",
   "execution_count": null,
   "id": "7a48cc46-1c76-4127-a4da-c8d18e27bb03",
   "metadata": {},
   "outputs": [],
   "source": [
    "from gensim.models import FastText\n",
    "from gensim.test.utils import common_texts\n",
    "from gensim.models.word2vec import Word2Vec"
   ]
  },
  {
   "cell_type": "markdown",
   "id": "fc8eb67c-65d8-469c-9c60-61a2146f3f5c",
   "metadata": {},
   "source": [
    "### Word2Vec"
   ]
  },
  {
   "cell_type": "code",
   "execution_count": null,
   "id": "523c52b0-f7ff-4f19-abe6-3672b3258c6b",
   "metadata": {},
   "outputs": [],
   "source": [
    "word2vec_300 = Word2Vec(sentences=sentences[:300], vector_size=300, window=5, min_count=1, workers=4) # 300 sentences"
   ]
  },
  {
   "cell_type": "code",
   "execution_count": null,
   "id": "3bba0616-a6fa-44be-8478-af0725271227",
   "metadata": {},
   "outputs": [],
   "source": [
    "word2vec_1m = Word2Vec(sentences=sentences[:1_000_000], vector_size=300, window=5, min_count=1, workers=4) #1000000 sentences"
   ]
  },
  {
   "cell_type": "code",
   "execution_count": null,
   "id": "75edeaa8-b8b5-4c26-b67b-c4100944d20c",
   "metadata": {},
   "outputs": [],
   "source": [
    "word2vec_full = Word2Vec(sentences=sentences, vector_size=300, window=5, min_count=1, workers=4) # aprox 3000000 sentences"
   ]
  },
  {
   "cell_type": "code",
   "execution_count": null,
   "id": "6b7aa66e-f92e-4e3d-98a3-88d3dc7ec394",
   "metadata": {},
   "outputs": [],
   "source": [
    "word2vec_300.wv.most_similar('director')"
   ]
  },
  {
   "cell_type": "code",
   "execution_count": null,
   "id": "9a26d825-7133-4469-b876-66a5d85e5ac4",
   "metadata": {},
   "outputs": [],
   "source": [
    "word2vec_1m.wv.most_similar('director')"
   ]
  },
  {
   "cell_type": "code",
   "execution_count": null,
   "id": "60691dc1-731c-4c33-9d7e-b31e5c47519a",
   "metadata": {},
   "outputs": [],
   "source": [
    "word2vec_full.wv.most_similar('director')"
   ]
  },
  {
   "cell_type": "markdown",
   "id": "d9df78a9-5c80-4f07-9b98-782cfa9f6aa9",
   "metadata": {},
   "source": [
    "### FastText"
   ]
  },
  {
   "cell_type": "code",
   "execution_count": null,
   "id": "ca1266ff-b185-496c-a0cc-5f9c1f457f05",
   "metadata": {},
   "outputs": [],
   "source": [
    "fasttext_300 = FastText(vector_size=300, window=5, min_count=1, workers=4)\n",
    "fasttext_300.build_vocab(corpus_iterable=sentences[:300]) # 300 sentences"
   ]
  },
  {
   "cell_type": "code",
   "execution_count": null,
   "id": "388bc81e-824a-4169-9e9c-712b935a1d40",
   "metadata": {},
   "outputs": [],
   "source": [
    "fasttext_1m = FastText(vector_size=300, window=5, min_count=1, workers=4)\n",
    "fasttext_1m.build_vocab(corpus_iterable=sentences[:1_000_000]) #1000000 sentences"
   ]
  },
  {
   "cell_type": "code",
   "execution_count": null,
   "id": "74a9cb24-8827-4675-a6ab-e283cf011247",
   "metadata": {},
   "outputs": [],
   "source": [
    "fasttext_full = FastText(vector_size=300, window=5, min_count=1)\n",
    "fasttext_full.build_vocab(corpus_iterable=sentences) # aprox 3000000 sentences"
   ]
  },
  {
   "cell_type": "code",
   "execution_count": null,
   "id": "f7ba6137-840f-4969-a794-474651731747",
   "metadata": {},
   "outputs": [],
   "source": [
    "fasttext_300.wv.most_similar('director')"
   ]
  },
  {
   "cell_type": "code",
   "execution_count": null,
   "id": "1d934a31-136d-4a52-9e1c-c0000b3a0ce5",
   "metadata": {},
   "outputs": [],
   "source": [
    "fasttext_1m.wv.most_similar('director')"
   ]
  },
  {
   "cell_type": "code",
   "execution_count": null,
   "id": "d434e5e6-d35d-4a4d-a7f6-a103ae671b83",
   "metadata": {},
   "outputs": [],
   "source": [
    "fasttext_full.wv.most_similar('director')"
   ]
  },
  {
   "cell_type": "markdown",
   "id": "11ff16b8-9660-4fd6-b298-093acbca5542",
   "metadata": {},
   "source": [
    "## Construcción de vectores para palabras únicas"
   ]
  },
  {
   "cell_type": "code",
   "execution_count": null,
   "id": "e23d3720-4da8-47e6-982c-09e1c98e3e0a",
   "metadata": {},
   "outputs": [],
   "source": [
    "# Inserte código aquí"
   ]
  },
  {
   "cell_type": "markdown",
   "id": "2c7f7a2f-1084-4ebe-b110-3a8a1ad3ccef",
   "metadata": {},
   "source": [
    "## Visualización de vectores en plano cartesiano"
   ]
  },
  {
   "cell_type": "code",
   "execution_count": null,
   "id": "aa9926d5-7352-48d2-84d5-0b4354481d51",
   "metadata": {},
   "outputs": [],
   "source": [
    "# Inserte código aquí"
   ]
  }
 ],
 "metadata": {
  "kernelspec": {
   "display_name": "Python 3 (ipykernel)",
   "language": "python",
   "name": "python3"
  },
  "language_info": {
   "codemirror_mode": {
    "name": "ipython",
    "version": 3
   },
   "file_extension": ".py",
   "mimetype": "text/x-python",
   "name": "python",
   "nbconvert_exporter": "python",
   "pygments_lexer": "ipython3",
   "version": "3.10.12"
  }
 },
 "nbformat": 4,
 "nbformat_minor": 5
}
