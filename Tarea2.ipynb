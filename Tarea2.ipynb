{
 "cells": [
  {
   "cell_type": "markdown",
   "id": "24451d87-f419-4d66-8d40-7f83c4a0a410",
   "metadata": {},
   "source": [
    "# Tarea #2: Representación vectorial de palabras con Word2Vec y FastText usando Gensim"
   ]
  },
  {
   "cell_type": "markdown",
   "id": "32c11746-c0f2-463c-b39c-55d7a266b59c",
   "metadata": {},
   "source": [
    "Realziado por:\n",
    "- Jose Luis Hincapie Bucheli (2125340)\n",
    "- Sebastián Idrobo Avirama (2122637)\n",
    "- Paul Rodrigo Rojas Guerrero (2127891)\n",
    "---"
   ]
  },
  {
   "cell_type": "markdown",
   "id": "00583603-af43-499b-bc99-9d09a190d8f4",
   "metadata": {},
   "source": [
    "# Creación de listas de sentencias"
   ]
  },
  {
   "cell_type": "code",
   "execution_count": null,
   "id": "bad7576e-f35a-4395-a186-26fa8fc08c9b",
   "metadata": {},
   "outputs": [],
   "source": [
    "!pip install datasets spacy"
   ]
  },
  {
   "cell_type": "code",
   "execution_count": null,
   "id": "3e306112-268c-4930-a2ea-a2a356d89f8c",
   "metadata": {},
   "outputs": [],
   "source": [
    "from datasets import load_dataset"
   ]
  },
  {
   "cell_type": "code",
   "execution_count": null,
   "id": "579a85c0-9a5f-471f-9b28-c366cbc9e1cd",
   "metadata": {},
   "outputs": [],
   "source": [
    "raw_text = load_dataset('large_spanish_corpus', name='DGT', split='train', streaming=True)"
   ]
  },
  {
   "cell_type": "markdown",
   "id": "d651b342-2418-46c9-8827-c0ce978a5328",
   "metadata": {},
   "source": [
    "## Tokenización"
   ]
  },
  {
   "cell_type": "code",
   "execution_count": null,
   "id": "bca8ab9c-e592-4d58-b1c3-2463765dcd1c",
   "metadata": {},
   "outputs": [],
   "source": [
    "import spacy\n",
    "from tqdm import tqdm\n",
    "import time\n",
    "\n",
    "!python -m spacy download es_core_news_sm"
   ]
  },
  {
   "cell_type": "code",
   "execution_count": null,
   "id": "eb98bab8-4dda-4687-8d46-93b91ee09d56",
   "metadata": {},
   "outputs": [],
   "source": [
    "#Correr antes de hacer la limpieza\n",
    "nlp = spacy.load('es_core_news_sm')"
   ]
  },
  {
   "cell_type": "code",
   "execution_count": null,
   "id": "87eafe43-7f4f-4b74-aa23-43ee186c91ac",
   "metadata": {},
   "outputs": [],
   "source": [
    "print(time.ctime(time.time()))\n",
    "\n",
    "with open('output.txt', 'w') as output_file:\n",
    "    for sent in tqdm(raw_text):\n",
    "        sent = sent['text']\n",
    "        doc = nlp(sent)\n",
    "    \n",
    "        for token in doc:\n",
    "            output_file.write(f'{token}, ')\n",
    "    \n",
    "        output_file.write('\\n')\n",
    "\n",
    "print(time.ctime(time.time()))"
   ]
  },
  {
   "cell_type": "markdown",
   "id": "8fcd2735-9691-4957-af3e-73afd12c9f15",
   "metadata": {},
   "source": [
    "## Depuración"
   ]
  },
  {
   "cell_type": "code",
   "execution_count": null,
   "id": "45617bfd-8fc4-4596-ab94-9d5356a203fa",
   "metadata": {},
   "outputs": [],
   "source": [
    "# Carga de las palabras toquenizadas \n",
    "with open(\"output.txt\",\"r\",encoding=\"utf-8\") as file:\n",
    "    file_contents = file.read()\n",
    "words = file_contents.split(\", \")\n",
    "print(words[1:200])"
   ]
  },
  {
   "cell_type": "code",
   "execution_count": null,
   "id": "9589b27c-02e3-455b-a325-053f8ac1263a",
   "metadata": {},
   "outputs": [],
   "source": [
    "import re, string\n",
    "\n",
    "words_wn = []\n",
    "\n",
    "with open('output2.txt', 'w',encoding=\"utf-8\") as output_file:\n",
    "    for w in tqdm(words):\n",
    "        doc = nlp(w)\n",
    "        # Verificar que sea una palabra, no sea un dígito y no sea una stop-word\n",
    "        if len(doc) > 0 and not w.isdigit() and not doc[0].is_stop:\n",
    "            w = re.sub(r'[0-9]','', w) # Depurar de dígitos\n",
    "            re_punc = re.compile('[%s]' % re.escape(string.punctuation)) \n",
    "            w = re_punc.sub('', w) # Depurar de signos de puntuación\n",
    "            w = re.sub(\"\\!|\\'|\\?|\\¿|\\¡|\\«|\\»|\\—\",\"\",w) # Depurar de símbolos especiales\n",
    "            if w.strip(): # Si el token se convirtió en una cadena vacía o con espacios, no añadirla\n",
    "                output_file.write(f'{w}, ')"
   ]
  },
  {
   "cell_type": "code",
   "execution_count": null,
   "id": "0a7795a3-f583-45d0-b09f-2e027b1170d0",
   "metadata": {},
   "outputs": [],
   "source": [
    "with open('output2.txt', 'r', encoding=\"utf-8\") as file:\n",
    "    lines = file.readlines()\n",
    "    sentences = []\n",
    "    for line in lines:\n",
    "        words = line.strip().split(', ')\n",
    "        sentences.append(words)\n",
    "\n",
    "print(sentences[1:50])"
   ]
  },
  {
   "cell_type": "markdown",
   "id": "36ba46d5-230e-4776-865e-31262f9ebff4",
   "metadata": {},
   "source": [
    "# Representación Vectorial"
   ]
  },
  {
   "cell_type": "markdown",
   "id": "092bda60-b4dc-4d20-83a9-816bd9e54cc9",
   "metadata": {},
   "source": [
    "## Construcción de modelos de FastText y Word2Vec"
   ]
  },
  {
   "cell_type": "code",
   "execution_count": null,
   "id": "5bacc784-f828-45c1-8ba7-62b61a02352f",
   "metadata": {},
   "outputs": [],
   "source": [
    "# Inserte código aquí"
   ]
  },
  {
   "cell_type": "markdown",
   "id": "11ff16b8-9660-4fd6-b298-093acbca5542",
   "metadata": {},
   "source": [
    "## Construcción de vectores para palabras únicas"
   ]
  },
  {
   "cell_type": "code",
   "execution_count": null,
   "id": "e23d3720-4da8-47e6-982c-09e1c98e3e0a",
   "metadata": {},
   "outputs": [],
   "source": [
    "# Inserte código aquí"
   ]
  },
  {
   "cell_type": "markdown",
   "id": "2c7f7a2f-1084-4ebe-b110-3a8a1ad3ccef",
   "metadata": {},
   "source": [
    "## Visualización de vectores en plano cartesiano"
   ]
  },
  {
   "cell_type": "code",
   "execution_count": null,
   "id": "aa9926d5-7352-48d2-84d5-0b4354481d51",
   "metadata": {},
   "outputs": [],
   "source": [
    "# Inserte código aquí"
   ]
  }
 ],
 "metadata": {
  "kernelspec": {
   "display_name": "Python 3 (ipykernel)",
   "language": "python",
   "name": "python3"
  },
  "language_info": {
   "codemirror_mode": {
    "name": "ipython",
    "version": 3
   },
   "file_extension": ".py",
   "mimetype": "text/x-python",
   "name": "python",
   "nbconvert_exporter": "python",
   "pygments_lexer": "ipython3",
   "version": "3.10.13"
  }
 },
 "nbformat": 4,
 "nbformat_minor": 5
}
